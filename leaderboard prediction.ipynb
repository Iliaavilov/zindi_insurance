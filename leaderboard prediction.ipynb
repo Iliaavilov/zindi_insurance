{
 "cells": [
  {
   "cell_type": "code",
   "execution_count": null,
   "metadata": {},
   "outputs": [],
   "source": [
    "import pandas as pd\n",
    "import numpy as np\n",
    "import neptune\n",
    "import random\n",
    "import gc\n",
    "import ast\n",
    "\n",
    "from lightgbm import LGBMClassifier\n",
    "\n",
    "\n",
    "from sklearn.preprocessing import OneHotEncoder, LabelEncoder\n",
    "from sklearn.base import clone\n",
    "from sklearn.model_selection import KFold"
   ]
  },
  {
   "cell_type": "code",
   "execution_count": null,
   "metadata": {},
   "outputs": [],
   "source": [
    "## инициализируем проект в нептуне\n",
    "neptune.init('iliaavilov/Zindi-insurance')"
   ]
  },
  {
   "cell_type": "code",
   "execution_count": null,
   "metadata": {},
   "outputs": [],
   "source": [
    "random_state = 555"
   ]
  },
  {
   "cell_type": "markdown",
   "metadata": {},
   "source": [
    "# Загрузка данных"
   ]
  },
  {
   "cell_type": "code",
   "execution_count": null,
   "metadata": {},
   "outputs": [],
   "source": [
    "train = pd.read_csv('Train.csv')\n",
    "test = pd.read_csv('Test.csv')"
   ]
  },
  {
   "cell_type": "code",
   "execution_count": null,
   "metadata": {},
   "outputs": [],
   "source": [
    "def encoding(data_train, data_test, column):\n",
    "    \n",
    "    \"\"\"\n",
    "    Кодировка колонки датафрейма через LabelEncoder из sklearn\n",
    "\n",
    "    ----------\n",
    "    data_train - тренировочный датафрейм\n",
    "    data_test - тестовый датафрейм\n",
    "    column - колонка датафрейма, которую надо закодировать\n",
    "    ----------\n",
    "\n",
    "    \"\"\"\n",
    "    \n",
    "    le = LabelEncoder()\n",
    "    le.fit(np.append(data_train[column].values, data_test[column].values))\n",
    "    data_train[column] = le.transform(data_train[column].values)\n",
    "    data_test[column] = le.transform(data_test[column].values)\n",
    "    return data_train, data_test"
   ]
  },
  {
   "cell_type": "markdown",
   "metadata": {},
   "source": [
    "# Информация о продуктах, которые уже есть у пользователя"
   ]
  },
  {
   "cell_type": "code",
   "execution_count": null,
   "metadata": {},
   "outputs": [],
   "source": [
    "## Выбираем продукты, которые уже есть у пользователей\n",
    "real_1 = test[test['presence'] == 1][['ID', 'variable']]\n",
    "real_1['Label'] = 1\n",
    "\n",
    "\n",
    "## Оставляем в тестовом датасете только продукты, информации о наличии которых нет\n",
    "test = test[test['presence'] == 0]\n",
    "ID_X_var = test[['ID', 'variable']]"
   ]
  },
  {
   "cell_type": "code",
   "execution_count": null,
   "metadata": {},
   "outputs": [],
   "source": [
    "train, test = encoding(train, test, 'variable')"
   ]
  },
  {
   "cell_type": "markdown",
   "metadata": {},
   "source": [
    "# Разбиваем на X и y"
   ]
  },
  {
   "cell_type": "code",
   "execution_count": null,
   "metadata": {},
   "outputs": [],
   "source": [
    "X_train = train.drop(['presence', 'ID'], axis = 'columns')\n",
    "y_train = train['presence']\n",
    "test = test.drop(['presence', 'ID'], axis = 'columns')\n",
    "del train\n",
    "gc.collect()"
   ]
  },
  {
   "cell_type": "markdown",
   "metadata": {},
   "source": [
    "# Делаем предсказания"
   ]
  },
  {
   "cell_type": "code",
   "execution_count": null,
   "metadata": {},
   "outputs": [],
   "source": [
    "def predicting(X_train, y_train, X_test,  model, ID_X_var):\n",
    "    \n",
    "    \"\"\"\n",
    "    Предсказывает target с помощью модели с заданными параметрами и автоматически сохраняет csv файл с предсказаниями\n",
    "\n",
    "    ----------\n",
    "    X_train - тренировочные данные\n",
    "    y_train - тренировочный target\n",
    "    X_test - тестовые данные\n",
    "    model - модель с заданными параметрами\n",
    "    ID_X_Var - датафрейм с ID пользователя и товара\n",
    "    ----------\n",
    "\n",
    "    \"\"\"\n",
    "    \n",
    "    model.fit(X_train, y_train)\n",
    "    probas = model.predict_proba(X_test).T[1]\n",
    "    \n",
    "    submission = pd.DataFrame({\n",
    "        'ID X PCODE' : ID_X_var['ID'].values + ' X ' + ID_X_var['variable'].values,\n",
    "        'Label': probas})\n",
    "    submission = submission.append(pd.DataFrame(\n",
    "        {\n",
    "        'ID X PCODE' : real_1['ID'].values + ' X ' + real_1['variable'].values,\n",
    "        'Label': real_1['Label']\n",
    "        }))\n",
    "    \n",
    "    submission.reset_index(drop = True, \n",
    "                           inplace = True)\n",
    "    submission.to_csv('submission.csv', \n",
    "                      index = False)\n",
    "    \n",
    "    return(submission)"
   ]
  },
  {
   "cell_type": "code",
   "execution_count": null,
   "metadata": {
    "scrolled": true
   },
   "outputs": [],
   "source": [
    "base_params =  {\n",
    "    'objective': 'binary',\n",
    "    'metric': 'binary_logloss',\n",
    "    'n_jobs': -1,\n",
    "    'n_estimators': 1500,\n",
    "    'random_state': random_state,\n",
    "    'categorical_feature': [X_train.columns.get_loc(cat_col) for cat_col in \n",
    "                            ['sex', 'marital_status', 'branch_code', 'occupation_code',\n",
    "                             'occupation_category_code', 'variable', 'P5DA',\n",
    "                             'RIBP', '8NN1', '7POT', '66FJ', 'GYSR', 'SOP4', 'RVSZ', 'PYUQ', 'LJR9',\n",
    "                             'N2MW', 'AHXO', 'BSTQ', 'FM3X', 'K6QO', 'QBOL', 'JWFN', 'JZ9D', 'J9JW',\n",
    "                             'GHYX', 'ECY3']]}\n",
    "\n",
    "\n",
    "## Выбираем параметры, которые дали наилучший результат на валидации\n",
    "best_params = ast.literal_eval(neptune.project.get_experiments(\"\"id эксперимента\"\")[0].get_properties()['best_parameters'])\n",
    "parameters = {**base_params, **best_params}"
   ]
  },
  {
   "cell_type": "code",
   "execution_count": null,
   "metadata": {
    "scrolled": true
   },
   "outputs": [],
   "source": [
    "predicting(X_train, y_train, test,  LGBMClassifier(**parameters), ID_X_var, real_1)"
   ]
  },
  {
   "cell_type": "code",
   "execution_count": null,
   "metadata": {},
   "outputs": [],
   "source": [
    "# Логируем информацию о результате на лидерборде\n",
    "neptune.project.get_experiments(\"\"id эксперимента\"\")[0].log_metric('test_score', )"
   ]
  }
 ],
 "metadata": {
  "kernelspec": {
   "display_name": "Python 3",
   "language": "python",
   "name": "python3"
  },
  "language_info": {
   "codemirror_mode": {
    "name": "ipython",
    "version": 3
   },
   "file_extension": ".py",
   "mimetype": "text/x-python",
   "name": "python",
   "nbconvert_exporter": "python",
   "pygments_lexer": "ipython3",
   "version": "3.7.7"
  },
  "neptune": {
   "notebookId": "3a7278f9-ebf0-40cb-a926-2a7c767b6876"
  }
 },
 "nbformat": 4,
 "nbformat_minor": 4
}
