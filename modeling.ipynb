{
 "cells": [
  {
   "cell_type": "code",
   "execution_count": 1,
   "metadata": {},
   "outputs": [],
   "source": [
    "import pandas as pd\n",
    "import matplotlib.pyplot as plt\n",
    "import neptunecontrib.monitoring.optuna as optuna_utils\n",
    "import optuna\n",
    "import numpy as np\n",
    "import neptune\n",
    "import random\n",
    "import gc\n",
    "\n",
    "\n",
    "import lightgbm as lgb\n",
    "import xgboost as xgb\n",
    "from catboost import CatBoostClassifier\n",
    "\n",
    "\n",
    "from sklearn.preprocessing import LabelEncoder\n",
    "from sklearn.base import clone\n",
    "from sklearn.model_selection import KFold\n",
    "from sklearn.metrics import log_loss"
   ]
  },
  {
   "cell_type": "code",
   "execution_count": 2,
   "metadata": {
    "scrolled": true
   },
   "outputs": [
    {
     "data": {
      "text/plain": [
       "Project(iliaavilov/Zindi-insurance)"
      ]
     },
     "execution_count": 2,
     "metadata": {},
     "output_type": "execute_result"
    }
   ],
   "source": [
    "neptune.init('iliaavilov/Zindi-insurance')"
   ]
  },
  {
   "cell_type": "code",
   "execution_count": 3,
   "metadata": {},
   "outputs": [],
   "source": [
    "random_state = 555"
   ]
  },
  {
   "cell_type": "markdown",
   "metadata": {},
   "source": [
    "# Загрузка данных"
   ]
  },
  {
   "cell_type": "code",
   "execution_count": 4,
   "metadata": {},
   "outputs": [],
   "source": [
    "# Тренировочные данные\n",
    "train = pd.read_csv('train_prepared.csv')"
   ]
  },
  {
   "cell_type": "code",
   "execution_count": 5,
   "metadata": {},
   "outputs": [],
   "source": [
    "def encoding(data_train, column):\n",
    "    \n",
    "    le = LabelEncoder()\n",
    "    le.fit(data_train[column].values)\n",
    "    data_train[column] = le.transform(data_train[column].values)\n",
    "    \n",
    "    return data_train"
   ]
  },
  {
   "cell_type": "code",
   "execution_count": 6,
   "metadata": {},
   "outputs": [],
   "source": [
    "train = encoding(train, 'variable')"
   ]
  },
  {
   "cell_type": "markdown",
   "metadata": {},
   "source": [
    "# Кросс валидация"
   ]
  },
  {
   "cell_type": "code",
   "execution_count": 7,
   "metadata": {},
   "outputs": [],
   "source": [
    "users = train[['ID']].drop_duplicates().reset_index(drop = True)"
   ]
  },
  {
   "cell_type": "code",
   "execution_count": 8,
   "metadata": {},
   "outputs": [],
   "source": [
    "def split_cv(data, random_state):\n",
    "    kf = KFold(n_splits=3, shuffle = True, random_state = random_state)\n",
    "    cv = list(kf.split(data))\n",
    "    \n",
    "    cv_users = []\n",
    "    for cur_cv in cv:\n",
    "        train = data.iloc[cur_cv[0]]['ID'].values\n",
    "        test = data.iloc[cur_cv[1]]['ID'].values\n",
    "        cv_users.append((train, test))\n",
    "        \n",
    "    return(cv_users)"
   ]
  },
  {
   "cell_type": "code",
   "execution_count": 9,
   "metadata": {
    "scrolled": true
   },
   "outputs": [],
   "source": [
    "cv_users = split_cv(users, random_state)"
   ]
  },
  {
   "cell_type": "code",
   "execution_count": 10,
   "metadata": {},
   "outputs": [],
   "source": [
    "cv = []\n",
    "for fold in cv_users:\n",
    "    cv.append((\n",
    "        train[train['ID'].isin(fold[0])].index.values, \n",
    "        train[train['ID'].isin(fold[1])].index.values)\n",
    "    )"
   ]
  },
  {
   "cell_type": "code",
   "execution_count": 11,
   "metadata": {},
   "outputs": [],
   "source": [
    "train = train.drop('ID', axis = 'columns')"
   ]
  },
  {
   "cell_type": "markdown",
   "metadata": {},
   "source": [
    "# Подбор модели"
   ]
  },
  {
   "cell_type": "markdown",
   "metadata": {},
   "source": [
    "### Тренировка разных моделей"
   ]
  },
  {
   "cell_type": "code",
   "execution_count": 12,
   "metadata": {},
   "outputs": [],
   "source": [
    "def lgbm_training(X_train, y_train, X_test, y_test, params):\n",
    "    \n",
    "    train_data = lgb.Dataset(X_train, y_train)\n",
    "    model_trial = lgb.train(params, train_data)\n",
    "    predictions = model_trial.predict(X_test)\n",
    "    cur_score = log_loss(y_test, np.array([1- predictions, predictions]).T)\n",
    "    \n",
    "    return(cur_score)\n",
    "\n",
    "\n",
    "\n",
    "def xgb_training(X_train, y_train, X_test, y_test, params):\n",
    "\n",
    "    train_data = xgb.DMatrix(X_train, label = y_train)\n",
    "    test_data = xgb.DMatrix(X_test)\n",
    "    model_trial = xgb.train(params = params, dtrain = train_data, num_boost_round = params['num_boost_round'])\n",
    "    predictions = model_trial.predict(test_data)\n",
    "    cur_score = log_loss(y_test, np.array([1- predictions, predictions]).T)\n",
    "    \n",
    "    return(cur_score)\n",
    "\n",
    "\n",
    "\n",
    "def sklearn_models_training(X_train, y_train, X_test, y_test, params):\n",
    "\n",
    "    model_trial = clone(model)\n",
    "    model_trial.set_params(**params)\n",
    "    model_trial.fit(X_train, y_train)\n",
    "    predictions = model_trial.predict_proba(X_test)\n",
    "    cur_score = log_loss(y_test, y_train)\n",
    "    \n",
    "    return(cur_score)"
   ]
  },
  {
   "cell_type": "markdown",
   "metadata": {},
   "source": [
    "### Функция, которую optuna будет пытаться минимизировать"
   ]
  },
  {
   "cell_type": "code",
   "execution_count": 13,
   "metadata": {},
   "outputs": [],
   "source": [
    "def objective(trial, model, train, cv, random_state):\n",
    "    \n",
    "    params = {\n",
    "        'objective': 'binary',\n",
    "        'metric': 'binary_logloss',\n",
    "        'n_jobs': -1,\n",
    "        'n_estimators': trial.suggest_int('n_estimators', 500, 2500),\n",
    "        'random_state': random_state,\n",
    "        'categorical_feature': [train.columns.get_loc(cat_col) for cat_col in \n",
    "                                ['sex', 'marital_status', 'branch_code', 'occupation_code',\n",
    "                                 'occupation_category_code', 'variable', 'P5DA',\n",
    "                                 'RIBP', '8NN1', '7POT', '66FJ', 'GYSR', 'SOP4', 'RVSZ', 'PYUQ', 'LJR9',\n",
    "                                 'N2MW', 'AHXO', 'BSTQ', 'FM3X', 'K6QO', 'QBOL', 'JWFN', 'JZ9D', 'J9JW',\n",
    "                                 'GHYX', 'ECY3']],\n",
    "        'num_leaves': trial.suggest_int('num_leaves', 2, 256),\n",
    "        'learning_rate': trial.suggest_loguniform('learning_rate', 0.01, 1.5),\n",
    "        'min_child_samples': trial.suggest_int('min_child_samples', 2, 256),\n",
    "        'feature_fraction': trial.suggest_uniform('feature_fraction', 0.4, 1.0),\n",
    "        'bagging_fraction': trial.suggest_uniform('bagging_fraction', 0.4, 1.0)\n",
    "    }\n",
    "    \n",
    "    ## Список результатов для разных фолдов\n",
    "    score = []\n",
    "    \n",
    "    for fold in cv:\n",
    "        \n",
    "        ## Выбираем X и y\n",
    "        X_train = train.iloc[fold[0], :].drop('presence', axis = 'columns')\n",
    "        y_train = train.iloc[fold[0], :]['presence'].values\n",
    "        X_test = train.iloc[fold[1], :].drop('presence', axis = 'columns')\n",
    "        y_test = train.iloc[fold[1], :]['presence'].values\n",
    "        \n",
    "        \n",
    "        ## В зависимости от заданной модели трренируем соответствующую модель\n",
    "        if model == 'lgbm':\n",
    "            cur_score = lgbm_training(X_train, y_train, X_test, y_test, params)\n",
    "            score.append(cur_score)\n",
    "            \n",
    "        elif model == 'xgb':\n",
    "            cur_score = xgb_training(X_train, y_train, X_test, y_test, params)\n",
    "            score.append(cur_score)\n",
    "            \n",
    "        else:\n",
    "            cur_score = sklearn_models_training(X_train, y_train, X_test, y_test, params)\n",
    "            score.append(cur_score)\n",
    "        \n",
    "        \n",
    "        print(cur_score)\n",
    "    \n",
    "    ## Логируем список результатов для каждого фолда\n",
    "    neptune.log_text('CV scores', str(score))\n",
    "    \n",
    "    ## Возвращаем средний результат по фолдам, который будем минимизировать\n",
    "    return(np.mean(score))"
   ]
  },
  {
   "cell_type": "code",
   "execution_count": 14,
   "metadata": {},
   "outputs": [],
   "source": [
    "def training(train, cv, model, random_state, n_trials, tags):\n",
    "    \n",
    "    ## Делаем переменную study глобальной, чтобы в случае незапланированной остановки можно было продолжить подбор \n",
    "    ## параметров с того момента, на котором остановились\n",
    "    global study\n",
    "    \n",
    "    ## Создаем эксперимент в neptune\n",
    "    if type(model) == str:\n",
    "        current_experiment = neptune.create_experiment(model, tags = tags)\n",
    "    else:\n",
    "        current_experiment = neptune.create_experiment(type(model).__name__, tags = tags)\n",
    "        \n",
    "    ## Выбираем стандартный сэмплер для подборки параметров\n",
    "    sampler = optuna.samplers.TPESampler(seed = random_state)\n",
    "    \n",
    "    ## Задаем объект study, с помощью которого будем МИНИМИЗИРОВАТЬ ошибку\n",
    "    study = optuna.create_study(sampler = sampler, direction = 'minimize')\n",
    "    \n",
    "    ## минимизируем ошибку\n",
    "    study.optimize(lambda trial: objective(trial, model, train, cv, random_state), \n",
    "                   n_trials = n_trials, callbacks = [optuna_utils.NeptuneCallback()]\n",
    "                  )\n",
    "    \n",
    "    ## Логируем объект study\n",
    "    optuna_utils.log_study(study)\n",
    "    \n",
    "    neptune.stop()"
   ]
  },
  {
   "cell_type": "code",
   "execution_count": null,
   "metadata": {
    "scrolled": true
   },
   "outputs": [
    {
     "name": "stdout",
     "output_type": "stream",
     "text": [
      "https://ui.neptune.ai/iliaavilov/Zindi-insurance/e/ZIN-921\n",
      "0.03200842000695025\n",
      "0.03277893643365938\n",
      "0.03168116624582877\n"
     ]
    },
    {
     "name": "stderr",
     "output_type": "stream",
     "text": [
      "[I 2020-08-26 19:01:32,540] Finished trial#0 with value: 0.0321561742288128 with parameters: {'n_estimators': 910, 'num_leaves': 176, 'learning_rate': 0.012709753733202291, 'min_child_samples': 70, 'feature_fraction': 0.9953822181510033, 'bagging_fraction': 0.6832014169448941}. Best is trial#0 with value: 0.0321561742288128.\n"
     ]
    },
    {
     "name": "stdout",
     "output_type": "stream",
     "text": [
      "0.05576140282553469\n",
      "0.056906177909049366\n",
      "0.052155166756764605\n"
     ]
    },
    {
     "name": "stderr",
     "output_type": "stream",
     "text": [
      "[I 2020-08-26 19:05:59,297] Finished trial#1 with value: 0.05494091583044955 with parameters: {'n_estimators': 1521, 'num_leaves': 242, 'learning_rate': 0.2980638271480203, 'min_child_samples': 86, 'feature_fraction': 0.6039943519772417, 'bagging_fraction': 0.7722612748995099}. Best is trial#0 with value: 0.0321561742288128.\n"
     ]
    },
    {
     "name": "stdout",
     "output_type": "stream",
     "text": [
      "0.033860309503940755\n",
      "0.0344055415862781\n",
      "0.03316881142537178\n"
     ]
    },
    {
     "name": "stderr",
     "output_type": "stream",
     "text": [
      "[I 2020-08-26 19:07:38,517] Finished trial#2 with value: 0.033811554171863545 with parameters: {'n_estimators': 969, 'num_leaves': 29, 'learning_rate': 0.03324725435891778, 'min_child_samples': 242, 'feature_fraction': 0.8793237692799856, 'bagging_fraction': 0.4136046103128769}. Best is trial#0 with value: 0.0321561742288128.\n"
     ]
    },
    {
     "name": "stdout",
     "output_type": "stream",
     "text": [
      "0.04806620526038477\n",
      "5.594299941510829\n",
      "4.895797783359423\n"
     ]
    },
    {
     "name": "stderr",
     "output_type": "stream",
     "text": [
      "[I 2020-08-26 19:09:34,370] Finished trial#3 with value: 3.5127213100435455 with parameters: {'n_estimators': 1006, 'num_leaves': 235, 'learning_rate': 0.47091399012527085, 'min_child_samples': 79, 'feature_fraction': 0.42471685927250674, 'bagging_fraction': 0.6808997507227978}. Best is trial#0 with value: 0.0321561742288128.\n"
     ]
    },
    {
     "name": "stdout",
     "output_type": "stream",
     "text": [
      "6.693575118267292\n",
      "3.1244239165685954\n",
      "5.876039138844785\n"
     ]
    },
    {
     "name": "stderr",
     "output_type": "stream",
     "text": [
      "[I 2020-08-26 19:12:22,570] Finished trial#4 with value: 5.231346057893558 with parameters: {'n_estimators': 1867, 'num_leaves': 186, 'learning_rate': 0.13471834841580013, 'min_child_samples': 6, 'feature_fraction': 0.7696639226588681, 'bagging_fraction': 0.5928499324849484}. Best is trial#0 with value: 0.0321561742288128.\n"
     ]
    },
    {
     "name": "stdout",
     "output_type": "stream",
     "text": [
      "0.03215124457925142\n",
      "0.0327305963537494\n",
      "0.03165883291279076\n"
     ]
    },
    {
     "name": "stderr",
     "output_type": "stream",
     "text": [
      "[I 2020-08-26 19:13:32,446] Finished trial#5 with value: 0.032180224615263854 with parameters: {'n_estimators': 764, 'num_leaves': 22, 'learning_rate': 0.07295723530722105, 'min_child_samples': 34, 'feature_fraction': 0.889336112579983, 'bagging_fraction': 0.5689735550191009}. Best is trial#0 with value: 0.0321561742288128.\n"
     ]
    },
    {
     "name": "stdout",
     "output_type": "stream",
     "text": [
      "0.03393697046125508\n",
      "0.034273901342461326\n",
      "0.03245959930100046\n"
     ]
    },
    {
     "name": "stderr",
     "output_type": "stream",
     "text": [
      "[I 2020-08-26 19:19:04,051] Finished trial#6 with value: 0.033556823701572286 with parameters: {'n_estimators': 1759, 'num_leaves': 210, 'learning_rate': 0.09068543050626741, 'min_child_samples': 180, 'feature_fraction': 0.4972767042237908, 'bagging_fraction': 0.8001382367922065}. Best is trial#0 with value: 0.0321561742288128.\n"
     ]
    },
    {
     "name": "stdout",
     "output_type": "stream",
     "text": [
      "0.03588647191046204\n",
      "0.03699344729955959\n",
      "0.03555844051182319\n"
     ]
    },
    {
     "name": "stderr",
     "output_type": "stream",
     "text": [
      "[I 2020-08-26 19:21:19,355] Finished trial#7 with value: 0.03614611990728161 with parameters: {'n_estimators': 1648, 'num_leaves': 15, 'learning_rate': 0.023431472774333082, 'min_child_samples': 215, 'feature_fraction': 0.9488642130196264, 'bagging_fraction': 0.5446537496753338}. Best is trial#0 with value: 0.0321561742288128.\n"
     ]
    },
    {
     "name": "stdout",
     "output_type": "stream",
     "text": [
      "4.501996949800016\n",
      "6.331308799166218\n",
      "5.061486085897246\n"
     ]
    },
    {
     "name": "stderr",
     "output_type": "stream",
     "text": [
      "[I 2020-08-26 19:22:19,285] Finished trial#8 with value: 5.298263944954493 with parameters: {'n_estimators': 980, 'num_leaves': 138, 'learning_rate': 1.2488696460699986, 'min_child_samples': 183, 'feature_fraction': 0.8851390385737676, 'bagging_fraction': 0.7680174732704552}. Best is trial#0 with value: 0.0321561742288128.\n"
     ]
    },
    {
     "name": "stdout",
     "output_type": "stream",
     "text": [
      "4.43072748476687\n",
      "6.31431674975266\n",
      "10.417266005903855\n"
     ]
    },
    {
     "name": "stderr",
     "output_type": "stream",
     "text": [
      "[I 2020-08-26 19:23:21,768] Finished trial#9 with value: 7.054103413474461 with parameters: {'n_estimators': 942, 'num_leaves': 178, 'learning_rate': 1.0489782454271428, 'min_child_samples': 252, 'feature_fraction': 0.9525650201954478, 'bagging_fraction': 0.5179020994235299}. Best is trial#0 with value: 0.0321561742288128.\n"
     ]
    },
    {
     "name": "stdout",
     "output_type": "stream",
     "text": [
      "0.04202133520201543\n",
      "0.042535758961205455\n",
      "0.041521465853447743\n"
     ]
    },
    {
     "name": "stderr",
     "output_type": "stream",
     "text": [
      "[I 2020-08-26 19:24:52,230] Finished trial#10 with value: 0.042026186672222875 with parameters: {'n_estimators': 541, 'num_leaves': 82, 'learning_rate': 0.011796552046383359, 'min_child_samples': 120, 'feature_fraction': 0.7270441745040778, 'bagging_fraction': 0.9742618127254904}. Best is trial#0 with value: 0.0321561742288128.\n"
     ]
    },
    {
     "name": "stdout",
     "output_type": "stream",
     "text": [
      "0.05579515142014621\n",
      "0.03322465848550325\n",
      "0.03279131406354379\n"
     ]
    },
    {
     "name": "stderr",
     "output_type": "stream",
     "text": [
      "[I 2020-08-26 19:29:29,966] Finished trial#11 with value: 0.040603707989731085 with parameters: {'n_estimators': 2307, 'num_leaves': 101, 'learning_rate': 0.0421733191733796, 'min_child_samples': 6, 'feature_fraction': 0.9774122576706805, 'bagging_fraction': 0.6551205758602161}. Best is trial#0 with value: 0.0321561742288128.\n"
     ]
    },
    {
     "name": "stdout",
     "output_type": "stream",
     "text": [
      "0.03687792047994363\n",
      "0.03741435538086542\n",
      "0.03654340766187265\n"
     ]
    },
    {
     "name": "stderr",
     "output_type": "stream",
     "text": [
      "[I 2020-08-26 19:31:18,441] Finished trial#12 with value: 0.0369452278408939 with parameters: {'n_estimators': 505, 'num_leaves': 145, 'learning_rate': 0.011893727346195739, 'min_child_samples': 47, 'feature_fraction': 0.838524461863008, 'bagging_fraction': 0.4236370331550888}. Best is trial#0 with value: 0.0321561742288128.\n"
     ]
    },
    {
     "name": "stdout",
     "output_type": "stream",
     "text": [
      "0.03121609951294812\n",
      "0.03184175602767016\n",
      "0.6837506076773485\n"
     ]
    },
    {
     "name": "stderr",
     "output_type": "stream",
     "text": [
      "[I 2020-08-26 19:32:52,297] Finished trial#13 with value: 0.24893615440598893 with parameters: {'n_estimators': 707, 'num_leaves': 67, 'learning_rate': 0.10148924101993778, 'min_child_samples': 47, 'feature_fraction': 0.6268722892006773, 'bagging_fraction': 0.8797516911578652}. Best is trial#0 with value: 0.0321561742288128.\n"
     ]
    },
    {
     "name": "stdout",
     "output_type": "stream",
     "text": [
      "0.03288312756110149\n",
      "0.032949064749121175\n",
      "0.032237157924729025\n"
     ]
    },
    {
     "name": "stderr",
     "output_type": "stream",
     "text": [
      "[I 2020-08-26 19:35:29,724] Finished trial#14 with value: 0.03268978341165057 with parameters: {'n_estimators': 1295, 'num_leaves': 49, 'learning_rate': 0.018867425208015383, 'min_child_samples': 53, 'feature_fraction': 0.9949893897806829, 'bagging_fraction': 0.5919430543035942}. Best is trial#0 with value: 0.0321561742288128.\n"
     ]
    },
    {
     "name": "stdout",
     "output_type": "stream",
     "text": [
      "0.03182277102218974\n",
      "0.03212153290790617\n",
      "0.03066114253996259\n"
     ]
    },
    {
     "name": "stderr",
     "output_type": "stream",
     "text": [
      "[I 2020-08-26 19:38:30,734] Finished trial#15 with value: 0.031535148823352836 with parameters: {'n_estimators': 1295, 'num_leaves': 112, 'learning_rate': 0.0494056149528915, 'min_child_samples': 117, 'feature_fraction': 0.8180780616464189, 'bagging_fraction': 0.49106247128998554}. Best is trial#15 with value: 0.031535148823352836.\n"
     ]
    },
    {
     "name": "stdout",
     "output_type": "stream",
     "text": [
      "0.031300443778528614\n",
      "0.03168981699119581\n",
      "0.030636593302512206\n"
     ]
    },
    {
     "name": "stderr",
     "output_type": "stream",
     "text": [
      "[I 2020-08-26 19:41:26,701] Finished trial#16 with value: 0.031208951357412206 with parameters: {'n_estimators': 1264, 'num_leaves': 99, 'learning_rate': 0.04594281811694527, 'min_child_samples': 133, 'feature_fraction': 0.8085081317368988, 'bagging_fraction': 0.47161578128018083}. Best is trial#16 with value: 0.031208951357412206.\n"
     ]
    },
    {
     "name": "stdout",
     "output_type": "stream",
     "text": [
      "0.03156259600596797\n",
      "0.032078094426668806\n",
      "0.03065736687544089\n"
     ]
    },
    {
     "name": "stderr",
     "output_type": "stream",
     "text": [
      "[I 2020-08-26 19:44:35,942] Finished trial#17 with value: 0.031432685769359224 with parameters: {'n_estimators': 1287, 'num_leaves': 118, 'learning_rate': 0.05138807982729128, 'min_child_samples': 138, 'feature_fraction': 0.7906814104423937, 'bagging_fraction': 0.4827341707317877}. Best is trial#16 with value: 0.031208951357412206.\n"
     ]
    },
    {
     "name": "stdout",
     "output_type": "stream",
     "text": [
      "0.039254091147611324\n",
      "0.039981658238650165\n",
      "0.03739151503561626\n"
     ]
    },
    {
     "name": "stderr",
     "output_type": "stream",
     "text": [
      "[I 2020-08-26 19:49:24,291] Finished trial#18 with value: 0.038875754807292585 with parameters: {'n_estimators': 2058, 'num_leaves': 115, 'learning_rate': 0.16989312110835822, 'min_child_samples': 159, 'feature_fraction': 0.6739956450349694, 'bagging_fraction': 0.4473350211871309}. Best is trial#16 with value: 0.031208951357412206.\n"
     ]
    },
    {
     "name": "stdout",
     "output_type": "stream",
     "text": [
      "0.03228422860001837\n",
      "0.032479796016920096\n",
      "0.031034301053798282\n"
     ]
    },
    {
     "name": "stderr",
     "output_type": "stream",
     "text": [
      "[I 2020-08-26 19:52:45,270] Finished trial#19 with value: 0.03193277522357892 with parameters: {'n_estimators': 1252, 'num_leaves': 149, 'learning_rate': 0.06047548661337205, 'min_child_samples': 144, 'feature_fraction': 0.7642385151464536, 'bagging_fraction': 0.4833772453107183}. Best is trial#16 with value: 0.031208951357412206.\n"
     ]
    },
    {
     "name": "stdout",
     "output_type": "stream",
     "text": [
      "0.036547774583086515\n",
      "0.03746092490182457\n",
      "3.4448584583548687\n"
     ]
    },
    {
     "name": "stderr",
     "output_type": "stream",
     "text": [
      "[I 2020-08-26 19:55:03,159] Finished trial#20 with value: 1.1729557192799265 with parameters: {'n_estimators': 1443, 'num_leaves': 76, 'learning_rate': 0.23764646650887614, 'min_child_samples': 103, 'feature_fraction': 0.6900961465528728, 'bagging_fraction': 0.6307396355521043}. Best is trial#16 with value: 0.031208951357412206.\n"
     ]
    },
    {
     "name": "stdout",
     "output_type": "stream",
     "text": [
      "0.03172654130411001\n",
      "0.03197237403649475\n",
      "0.03057146568549472\n"
     ]
    },
    {
     "name": "stderr",
     "output_type": "stream",
     "text": [
      "[I 2020-08-26 19:57:59,732] Finished trial#21 with value: 0.03142346034203316 with parameters: {'n_estimators': 1221, 'num_leaves': 108, 'learning_rate': 0.047156267196356225, 'min_child_samples': 123, 'feature_fraction': 0.8189539018873874, 'bagging_fraction': 0.5004658190869015}. Best is trial#16 with value: 0.031208951357412206.\n"
     ]
    },
    {
     "name": "stdout",
     "output_type": "stream",
     "text": [
      "0.03127411799588452\n",
      "0.032016339153766366\n",
      "0.030664574980626556\n"
     ]
    },
    {
     "name": "stderr",
     "output_type": "stream",
     "text": [
      "[I 2020-08-26 20:01:05,396] Finished trial#22 with value: 0.03131834404342581 with parameters: {'n_estimators': 1183, 'num_leaves': 95, 'learning_rate': 0.02846318640712485, 'min_child_samples': 144, 'feature_fraction': 0.7993679524303616, 'bagging_fraction': 0.47272962719094225}. Best is trial#16 with value: 0.031208951357412206.\n"
     ]
    },
    {
     "name": "stdout",
     "output_type": "stream",
     "text": [
      "0.031611568116086855\n",
      "0.0322639345337805\n",
      "0.031061494343748823\n"
     ]
    },
    {
     "name": "stderr",
     "output_type": "stream",
     "text": [
      "[I 2020-08-26 20:03:59,149] Finished trial#23 with value: 0.031645665664538726 with parameters: {'n_estimators': 1134, 'num_leaves': 88, 'learning_rate': 0.025432775750930083, 'min_child_samples': 165, 'feature_fraction': 0.7313503835347416, 'bagging_fraction': 0.4404175139160472}. Best is trial#16 with value: 0.031208951357412206.\n"
     ]
    },
    {
     "name": "stdout",
     "output_type": "stream",
     "text": [
      "0.03129511438199015\n",
      "0.03199598344201308\n",
      "0.030890742339989036\n"
     ]
    },
    {
     "name": "stderr",
     "output_type": "stream",
     "text": [
      "[I 2020-08-26 20:06:56,680] Finished trial#24 with value: 0.03139394672133075 with parameters: {'n_estimators': 1535, 'num_leaves': 54, 'learning_rate': 0.031082663247830523, 'min_child_samples': 102, 'feature_fraction': 0.8534776601482955, 'bagging_fraction': 0.5310853195975247}. Best is trial#16 with value: 0.031208951357412206.\n"
     ]
    },
    {
     "name": "stdout",
     "output_type": "stream",
     "text": [
      "0.03280929054479804\n",
      "0.0333286545550068\n",
      "0.03220082946133218\n"
     ]
    },
    {
     "name": "stderr",
     "output_type": "stream",
     "text": [
      "[I 2020-08-26 20:10:04,549] Finished trial#25 with value: 0.03277959152037901 with parameters: {'n_estimators': 1439, 'num_leaves': 52, 'learning_rate': 0.01734177521569591, 'min_child_samples': 97, 'feature_fraction': 0.9134128507071688, 'bagging_fraction': 0.40291503202731477}. Best is trial#16 with value: 0.031208951357412206.\n"
     ]
    },
    {
     "name": "stdout",
     "output_type": "stream",
     "text": [
      "0.03131065715990467\n",
      "0.032062801483011494\n",
      "0.030574165143459068\n"
     ]
    },
    {
     "name": "stderr",
     "output_type": "stream",
     "text": [
      "[I 2020-08-26 20:13:16,770] Finished trial#26 with value: 0.031315874595458405 with parameters: {'n_estimators': 1576, 'num_leaves': 61, 'learning_rate': 0.033863669936374026, 'min_child_samples': 211, 'feature_fraction': 0.851658851216282, 'bagging_fraction': 0.5323387548921183}. Best is trial#16 with value: 0.031208951357412206.\n"
     ]
    },
    {
     "name": "stdout",
     "output_type": "stream",
     "text": [
      "0.03112404213665591\n",
      "0.03162917146974421\n",
      "0.03038308465020953\n"
     ]
    },
    {
     "name": "stderr",
     "output_type": "stream",
     "text": [
      "[I 2020-08-26 20:18:44,165] Finished trial#27 with value: 0.031045432752203218 with parameters: {'n_estimators': 1988, 'num_leaves': 97, 'learning_rate': 0.03113890401584617, 'min_child_samples': 205, 'feature_fraction': 0.6278660178856456, 'bagging_fraction': 0.4574120663657781}. Best is trial#27 with value: 0.031045432752203218.\n"
     ]
    },
    {
     "name": "stdout",
     "output_type": "stream",
     "text": [
      "0.03247709318445613\n",
      "0.032985559587997475\n",
      "0.03186904370440469\n"
     ]
    },
    {
     "name": "stderr",
     "output_type": "stream",
     "text": [
      "[I 2020-08-26 20:24:01,498] Finished trial#28 with value: 0.03244389882561943 with parameters: {'n_estimators': 2046, 'num_leaves': 67, 'learning_rate': 0.01656522390168586, 'min_child_samples': 217, 'feature_fraction': 0.554503533926906, 'bagging_fraction': 0.40296658175186295}. Best is trial#27 with value: 0.031045432752203218.\n"
     ]
    },
    {
     "name": "stdout",
     "output_type": "stream",
     "text": [
      "0.031250308586836015\n",
      "0.03154647787967613\n",
      "0.03021018631684367\n"
     ]
    },
    {
     "name": "stderr",
     "output_type": "stream",
     "text": [
      "[I 2020-08-26 20:27:38,389] Finished trial#29 with value: 0.031002324261118607 with parameters: {'n_estimators': 2440, 'num_leaves': 36, 'learning_rate': 0.07674850896884966, 'min_child_samples': 216, 'feature_fraction': 0.6261505336697251, 'bagging_fraction': 0.6170883162284693}. Best is trial#29 with value: 0.031002324261118607.\n"
     ]
    },
    {
     "name": "stdout",
     "output_type": "stream",
     "text": [
      "0.037289042831009055\n",
      "0.0382641733036908\n",
      "0.03667469149845683\n"
     ]
    },
    {
     "name": "stderr",
     "output_type": "stream",
     "text": [
      "[I 2020-08-26 20:30:03,284] Finished trial#30 with value: 0.03740930254438556 with parameters: {'n_estimators': 2472, 'num_leaves': 4, 'learning_rate': 0.07944968662675335, 'min_child_samples': 235, 'feature_fraction': 0.6352353153335856, 'bagging_fraction': 0.6228002714626669}. Best is trial#29 with value: 0.031002324261118607.\n"
     ]
    },
    {
     "name": "stdout",
     "output_type": "stream",
     "text": [
      "0.03172727471434638\n",
      "0.03225413239899491\n",
      "0.03111000042009716\n"
     ]
    },
    {
     "name": "stderr",
     "output_type": "stream",
     "text": [
      "[I 2020-08-26 20:34:17,064] Finished trial#31 with value: 0.03169713584447949 with parameters: {'n_estimators': 2103, 'num_leaves': 38, 'learning_rate': 0.0364701121365574, 'min_child_samples': 205, 'feature_fraction': 0.5441614507769672, 'bagging_fraction': 0.5563582565015605}. Best is trial#29 with value: 0.031002324261118607.\n"
     ]
    },
    {
     "name": "stdout",
     "output_type": "stream",
     "text": [
      "0.03142459836809266\n",
      "0.03177759730003713\n",
      "0.030497156868375945\n"
     ]
    },
    {
     "name": "stderr",
     "output_type": "stream",
     "text": [
      "[I 2020-08-26 20:39:50,538] Finished trial#32 with value: 0.03123311751216858 with parameters: {'n_estimators': 2483, 'num_leaves': 70, 'learning_rate': 0.062134295201329875, 'min_child_samples': 202, 'feature_fraction': 0.5698190712608061, 'bagging_fraction': 0.593243468590824}. Best is trial#29 with value: 0.031002324261118607.\n"
     ]
    },
    {
     "name": "stdout",
     "output_type": "stream",
     "text": [
      "0.03630585157610323\n",
      "0.03687633818065084\n",
      "0.034894015097338735\n"
     ]
    },
    {
     "name": "stderr",
     "output_type": "stream",
     "text": [
      "[I 2020-08-26 20:46:35,899] Finished trial#33 with value: 0.03602540161803094 with parameters: {'n_estimators': 2480, 'num_leaves': 130, 'learning_rate': 0.12292690498063785, 'min_child_samples': 193, 'feature_fraction': 0.5809752489212099, 'bagging_fraction': 0.7320225535064329}. Best is trial#29 with value: 0.031002324261118607.\n"
     ]
    },
    {
     "name": "stdout",
     "output_type": "stream",
     "text": [
      "0.031033805324588565\n",
      "0.03150247976004614\n",
      "0.030313559806832896\n"
     ]
    },
    {
     "name": "stderr",
     "output_type": "stream",
     "text": [
      "[I 2020-08-26 20:50:37,743] Finished trial#34 with value: 0.030949948297155864 with parameters: {'n_estimators': 2281, 'num_leaves': 36, 'learning_rate': 0.06461956254888168, 'min_child_samples': 241, 'feature_fraction': 0.48621073197479214, 'bagging_fraction': 0.7086829742753572}. Best is trial#34 with value: 0.030949948297155864.\n"
     ]
    },
    {
     "name": "stdout",
     "output_type": "stream",
     "text": [
      "0.03163834186879895\n",
      "0.03219628766791031\n",
      "0.030707567150130843\n"
     ]
    },
    {
     "name": "stderr",
     "output_type": "stream",
     "text": [
      "[I 2020-08-26 20:54:05,067] Finished trial#35 with value: 0.031514065562280036 with parameters: {'n_estimators': 2241, 'num_leaves': 39, 'learning_rate': 0.16431367959794363, 'min_child_samples': 228, 'feature_fraction': 0.4115750945623165, 'bagging_fraction': 0.7065683920252119}. Best is trial#34 with value: 0.030949948297155864.\n"
     ]
    },
    {
     "name": "stdout",
     "output_type": "stream",
     "text": [
      "0.03391763256520659\n",
      "0.03409885313511659\n"
     ]
    },
    {
     "name": "stderr",
     "output_type": "stream",
     "text": [
      "NVMLError: The operating system has blocked the request. - GPU usage metrics may not be reported.\n"
     ]
    },
    {
     "name": "stdout",
     "output_type": "stream",
     "text": [
      "0.0328451278835189\n"
     ]
    },
    {
     "name": "stderr",
     "output_type": "stream",
     "text": [
      "[I 2020-08-26 21:41:27,001] Finished trial#36 with value: 0.03362053786128069 with parameters: {'n_estimators': 2327, 'num_leaves': 7, 'learning_rate': 0.10218470758960593, 'min_child_samples': 238, 'feature_fraction': 0.47334003242227896, 'bagging_fraction': 0.8259810000210827}. Best is trial#34 with value: 0.030949948297155864.\n"
     ]
    },
    {
     "name": "stdout",
     "output_type": "stream",
     "text": [
      "0.031262704717291936\n",
      "0.03162579379842376\n",
      "0.03072802556993698\n"
     ]
    },
    {
     "name": "stderr",
     "output_type": "stream",
     "text": [
      "[I 2020-08-26 21:44:21,036] Finished trial#37 with value: 0.03120550802855089 with parameters: {'n_estimators': 1821, 'num_leaves': 28, 'learning_rate': 0.06677529946602986, 'min_child_samples': 171, 'feature_fraction': 0.5209557984644151, 'bagging_fraction': 0.6514145694426279}. Best is trial#34 with value: 0.030949948297155864.\n"
     ]
    },
    {
     "name": "stdout",
     "output_type": "stream",
     "text": [
      "0.03469243311030595\n",
      "0.035493983562418153\n",
      "0.033975168138549804\n"
     ]
    },
    {
     "name": "stderr",
     "output_type": "stream",
     "text": [
      "[I 2020-08-26 21:47:00,691] Finished trial#38 with value: 0.034720528270424635 with parameters: {'n_estimators': 1930, 'num_leaves': 33, 'learning_rate': 0.35672225635710053, 'min_child_samples': 256, 'feature_fraction': 0.5086116000488827, 'bagging_fraction': 0.6795153973078505}. Best is trial#34 with value: 0.030949948297155864.\n"
     ]
    },
    {
     "name": "stdout",
     "output_type": "stream",
     "text": [
      "0.0323624272882366\n",
      "0.03279979842362077\n",
      "0.03186794803000199\n"
     ]
    },
    {
     "name": "stderr",
     "output_type": "stream",
     "text": [
      "[I 2020-08-26 21:49:33,176] Finished trial#39 with value: 0.03234339124728645 with parameters: {'n_estimators': 1816, 'num_leaves': 18, 'learning_rate': 0.06935286331323819, 'min_child_samples': 173, 'feature_fraction': 0.45272448555633493, 'bagging_fraction': 0.736908246075707}. Best is trial#34 with value: 0.030949948297155864.\n"
     ]
    },
    {
     "name": "stdout",
     "output_type": "stream",
     "text": [
      "0.1644425450624514\n",
      "0.16686819216045037\n",
      "0.1632808851677635\n"
     ]
    },
    {
     "name": "stderr",
     "output_type": "stream",
     "text": [
      "[I 2020-08-26 21:50:59,175] Finished trial#40 with value: 0.16486387413022177 with parameters: {'n_estimators': 2180, 'num_leaves': 2, 'learning_rate': 0.15399646131574582, 'min_child_samples': 191, 'feature_fraction': 0.5224042996921735, 'bagging_fraction': 0.8519385004959111}. Best is trial#34 with value: 0.030949948297155864.\n"
     ]
    },
    {
     "name": "stdout",
     "output_type": "stream",
     "text": [
      "0.031071692889512344\n",
      "0.03153070342237677\n",
      "0.03042579470086423\n"
     ]
    },
    {
     "name": "stderr",
     "output_type": "stream",
     "text": [
      "[I 2020-08-26 21:53:35,651] Finished trial#41 with value: 0.031009397004251118 with parameters: {'n_estimators': 1706, 'num_leaves': 25, 'learning_rate': 0.07828318573095379, 'min_child_samples': 223, 'feature_fraction': 0.6576706298835742, 'bagging_fraction': 0.6515315072093831}. Best is trial#34 with value: 0.030949948297155864.\n"
     ]
    },
    {
     "name": "stdout",
     "output_type": "stream",
     "text": [
      "0.03122302440866404\n",
      "0.031595362109912095\n",
      "0.030435737539868557\n"
     ]
    },
    {
     "name": "stderr",
     "output_type": "stream",
     "text": [
      "[I 2020-08-26 21:56:03,723] Finished trial#42 with value: 0.03108470801948156 with parameters: {'n_estimators': 1707, 'num_leaves': 22, 'learning_rate': 0.08239461945884485, 'min_child_samples': 224, 'feature_fraction': 0.6552402927224329, 'bagging_fraction': 0.6650676926851071}. Best is trial#34 with value: 0.030949948297155864.\n"
     ]
    },
    {
     "name": "stdout",
     "output_type": "stream",
     "text": [
      "0.03127573748982878\n",
      "0.03155073323551728\n",
      "0.030687875864471643\n"
     ]
    },
    {
     "name": "stderr",
     "output_type": "stream",
     "text": [
      "[I 2020-08-26 21:58:24,179] Finished trial#43 with value: 0.031171448863272565 with parameters: {'n_estimators': 1691, 'num_leaves': 17, 'learning_rate': 0.08354179570552019, 'min_child_samples': 226, 'feature_fraction': 0.6616796532314622, 'bagging_fraction': 0.7068377312430241}. Best is trial#34 with value: 0.030949948297155864.\n"
     ]
    },
    {
     "name": "stdout",
     "output_type": "stream",
     "text": [
      "0.03787985523946059\n",
      "0.038973039258462225\n"
     ]
    }
   ],
   "source": [
    "training(train, cv, model = 'lgbm', random_state = random_state, \n",
    "         n_trials = 150, \n",
    "         tags = ['catfeatures', 'lgbm catfeatures', 'timestamp from registartion date', \n",
    "                 'all initial features', 'all initial data', 'dropped_nans', 'one model', 'cv ver.2'])"
   ]
  }
 ],
 "metadata": {
  "kernelspec": {
   "display_name": "Python 3",
   "language": "python",
   "name": "python3"
  },
  "language_info": {
   "codemirror_mode": {
    "name": "ipython",
    "version": 3
   },
   "file_extension": ".py",
   "mimetype": "text/x-python",
   "name": "python",
   "nbconvert_exporter": "python",
   "pygments_lexer": "ipython3",
   "version": "3.7.7"
  },
  "neptune": {
   "notebookId": "cdbec88c-05b3-4d8b-ae26-dd3d7490af2d"
  }
 },
 "nbformat": 4,
 "nbformat_minor": 4
}
