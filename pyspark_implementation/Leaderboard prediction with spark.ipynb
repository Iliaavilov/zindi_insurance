{
 "cells": [
  {
   "cell_type": "code",
   "execution_count": null,
   "metadata": {},
   "outputs": [],
   "source": [
    "from pyspark.sql import SparkSession\n",
    "from pyspark.sql.functions import *\n",
    "from pyspark.ml.feature import StringIndexer\n",
    "from typing import Iterable\n",
    "from itertools import chain\n",
    "from pyspark.sql.types import StructType\n",
    "from pyspark import SparkContext\n",
    "import pandas as pd\n",
    "from lightgbm import LGBMClassifier\n",
    "import neptune"
   ]
  },
  {
   "cell_type": "code",
   "execution_count": null,
   "metadata": {},
   "outputs": [],
   "source": [
    "## Инициализируем проект в нептуне\n",
    "neptune.init('iliaavilov/Zindi-insurance')"
   ]
  },
  {
   "cell_type": "code",
   "execution_count": null,
   "metadata": {},
   "outputs": [],
   "source": [
    "spark = SparkSession.builder.master(\"local[*]\").config(\"spark.driver.cores\", 16).appName('zindi-insurance').getOrCreate()"
   ]
  },
  {
   "cell_type": "code",
   "execution_count": null,
   "metadata": {},
   "outputs": [],
   "source": [
    "spark.sparkContext.uiWebUrl"
   ]
  },
  {
   "cell_type": "code",
   "execution_count": null,
   "metadata": {},
   "outputs": [],
   "source": [
    "random_state = 555"
   ]
  },
  {
   "cell_type": "markdown",
   "metadata": {},
   "source": [
    "# Загрузка данных"
   ]
  },
  {
   "cell_type": "code",
   "execution_count": null,
   "metadata": {},
   "outputs": [],
   "source": [
    "train = spark.read.csv('train_prepared.csv', header = True)\n",
    "test = spark.read.csv('test_prepared.csv', header = True)"
   ]
  },
  {
   "cell_type": "code",
   "execution_count": null,
   "metadata": {},
   "outputs": [],
   "source": [
    "def encoding(train, test, column):\n",
    "    indexer = StringIndexer(inputCol = column, outputCol = '{}_indexed'.format(column))\n",
    "    indexer = indexer.fit(train.union(test))\n",
    "\n",
    "\n",
    "    train = indexer.transform(train)\n",
    "    train = train.drop(column)\n",
    "    train = train.withColumnRenamed('{}_indexed'.format(column), column)\n",
    "\n",
    "\n",
    "    test = indexer.transform(test)\n",
    "    test = test.drop(column)\n",
    "    test = test.withColumnRenamed('{}_indexed'.format(column), column)\n",
    "    \n",
    "    return(train, test)"
   ]
  },
  {
   "cell_type": "markdown",
   "metadata": {},
   "source": [
    "# Информация о продуктах, которые уже есть у пользователя"
   ]
  },
  {
   "cell_type": "code",
   "execution_count": null,
   "metadata": {},
   "outputs": [],
   "source": [
    "## ВЫбираем продукты, которые уже есть у пользователей\n",
    "real_1 = test[test['presence'] == '1'][['ID', 'variable']]\n",
    "real_1 = real_1.withColumn('Label', lit(1))"
   ]
  },
  {
   "cell_type": "code",
   "execution_count": null,
   "metadata": {},
   "outputs": [],
   "source": [
    "## Оставляем в тестовом датасете только продукты, информации о наличии которых нет\n",
    "test = test[test['presence'] == '0']\n",
    "ID_X_var = test[['ID', 'variable']]"
   ]
  },
  {
   "cell_type": "code",
   "execution_count": null,
   "metadata": {},
   "outputs": [],
   "source": [
    "train, test = encoding(train, test, 'variable')"
   ]
  },
  {
   "cell_type": "markdown",
   "metadata": {},
   "source": [
    "# Разбиваем на X и y"
   ]
  },
  {
   "cell_type": "code",
   "execution_count": null,
   "metadata": {
    "scrolled": true
   },
   "outputs": [],
   "source": [
    "y_train = train['presence']\n",
    "for col in ['presence', 'ID']:\n",
    "\n",
    "    train = train.drop(col)\n",
    "    test = test.drop(col)"
   ]
  },
  {
   "cell_type": "markdown",
   "metadata": {},
   "source": [
    "# Делаем предсказания"
   ]
  },
  {
   "cell_type": "code",
   "execution_count": null,
   "metadata": {},
   "outputs": [],
   "source": [
    "def predicting(X_train, y_train, X_test,  model, ID_X_var, real_1):\n",
    "    \n",
    "    model.fit(X_train, y_train)\n",
    "    probas = model.predict_proba(X_test).T[1]\n",
    "    \n",
    "    submission = pd.DataFrame({\n",
    "        'ID X PCODE' : ID_X_var['ID'].values + ' X ' + ID_X_var['variable'].values,\n",
    "        'Label': probas})\n",
    "    submission = submission.append(pd.DataFrame(\n",
    "        {\n",
    "        'ID X PCODE' : real_1['ID'].values + ' X ' + real_1['variable'].values,\n",
    "        'Label': real_1['Label']}))\n",
    "    submission.reset_index(drop = True, \n",
    "                           inplace = True)\n",
    "    submission.to_csv('submission.csv', \n",
    "                      index = False)\n",
    "    \n",
    "    return(submission)"
   ]
  },
  {
   "cell_type": "code",
   "execution_count": null,
   "metadata": {},
   "outputs": [],
   "source": [
    "base_params =  {\n",
    "    'objective': 'binary',\n",
    "    'metric': 'binary_logloss',\n",
    "    'n_jobs': -1,\n",
    "    'n_estimators': 1500,\n",
    "    'random_state': random_state,\n",
    "    'categorical_feature': [X_train.columns.get_loc(cat_col) for cat_col in \n",
    "                            ['sex', 'marital_status', 'branch_code', 'occupation_code',\n",
    "                             'occupation_category_code', 'variable', 'P5DA',\n",
    "                             'RIBP', '8NN1', '7POT', '66FJ', 'GYSR', 'SOP4', 'RVSZ', 'PYUQ', 'LJR9',\n",
    "                             'N2MW', 'AHXO', 'BSTQ', 'FM3X', 'K6QO', 'QBOL', 'JWFN', 'JZ9D', 'J9JW',\n",
    "                             'GHYX', 'ECY3']]}\n",
    "\n",
    "best_params = ast.literal_eval(neptune.project.get_experiments('ZIN-912')[0].get_properties()['best_parameters'])\n",
    "parameters = {**base_params, **best_params}"
   ]
  },
  {
   "cell_type": "code",
   "execution_count": null,
   "metadata": {},
   "outputs": [],
   "source": [
    "predicting(X_train.toPandas(), \n",
    "           y_train.toPandas(), \n",
    "           test.toPandas(),  \n",
    "           LGBMClassifier(**parameters), \n",
    "           ID_X_var.toPandas(), \n",
    "           real_1.toPandas())"
   ]
  },
  {
   "cell_type": "code",
   "execution_count": null,
   "metadata": {},
   "outputs": [],
   "source": [
    "predicting(X_train, y_train, test,  LGBMClassifier(**parameters), ID_X_var, real_1)"
   ]
  }
 ],
 "metadata": {
  "kernelspec": {
   "display_name": "Python 3",
   "language": "python",
   "name": "python3"
  },
  "language_info": {
   "codemirror_mode": {
    "name": "ipython",
    "version": 3
   },
   "file_extension": ".py",
   "mimetype": "text/x-python",
   "name": "python",
   "nbconvert_exporter": "python",
   "pygments_lexer": "ipython3",
   "version": "3.7.7"
  }
 },
 "nbformat": 4,
 "nbformat_minor": 4
}
